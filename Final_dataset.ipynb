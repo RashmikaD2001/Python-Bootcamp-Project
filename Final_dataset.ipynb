{
  "nbformat": 4,
  "nbformat_minor": 0,
  "metadata": {
    "colab": {
      "provenance": [],
      "authorship_tag": "ABX9TyNnbUm9mXIgF0SJIRoiFIqN",
      "include_colab_link": true
    },
    "kernelspec": {
      "name": "python3",
      "display_name": "Python 3"
    },
    "language_info": {
      "name": "python"
    }
  },
  "cells": [
    {
      "cell_type": "markdown",
      "metadata": {
        "id": "view-in-github",
        "colab_type": "text"
      },
      "source": [
        "<a href=\"https://colab.research.google.com/github/RashmikaD2001/Python-Bootcamp-Project/blob/task_2/Final_dataset.ipynb\" target=\"_parent\"><img src=\"https://colab.research.google.com/assets/colab-badge.svg\" alt=\"Open In Colab\"/></a>"
      ]
    },
    {
      "cell_type": "code",
      "execution_count": 8,
      "metadata": {
        "id": "g4qUsVC8nz-r"
      },
      "outputs": [],
      "source": [
        "import pandas as pd\n",
        "import numpy as np\n",
        "dataset1 = pd.read_csv('https://raw.githubusercontent.com/RashmikaD2001/Python-Bootcamp-Project/main/WorldCup_Stats/1975_Match_Stats.csv')\n",
        "dataset2 = pd.read_csv('https://raw.githubusercontent.com/RashmikaD2001/Python-Bootcamp-Project/main/WorldCup_Stats/1979_Match_Stats.csv')\n",
        "dataset3 = pd.read_csv('https://raw.githubusercontent.com/RashmikaD2001/Python-Bootcamp-Project/main/WorldCup_Stats/1983_Match_Stats.csv')\n",
        "dataset4 = pd.read_csv('https://raw.githubusercontent.com/RashmikaD2001/Python-Bootcamp-Project/main/WorldCup_Stats/1987_Match_Stats.csv')\n",
        "dataset5 = pd.read_csv('https://raw.githubusercontent.com/RashmikaD2001/Python-Bootcamp-Project/main/WorldCup_Stats/1992_Match_Stats.csv')\n",
        "dataset6 = pd.read_csv('https://raw.githubusercontent.com/RashmikaD2001/Python-Bootcamp-Project/main/WorldCup_Stats/1996_Match_Stats.csv')\n",
        "dataset7 = pd.read_csv('https://raw.githubusercontent.com/RashmikaD2001/Python-Bootcamp-Project/main/WorldCup_Stats/1999_Match_Stats.csv')\n",
        "dataset8 = pd.read_csv('https://raw.githubusercontent.com/RashmikaD2001/Python-Bootcamp-Project/main/WorldCup_Stats/2003_Match_Stats.csv')\n",
        "dataset9 = pd.read_csv('https://raw.githubusercontent.com/RashmikaD2001/Python-Bootcamp-Project/main/WorldCup_Stats/2007_Match_Stats.csv')\n",
        "dataset10 = pd.read_csv('https://raw.githubusercontent.com/RashmikaD2001/Python-Bootcamp-Project/main/WorldCup_Stats/2011_Match_Stats.csv')\n",
        "dataset11 = pd.read_csv('https://raw.githubusercontent.com/RashmikaD2001/Python-Bootcamp-Project/main/WorldCup_Stats/2015_Match_Stats.csv')\n",
        "dataset12 = pd.read_csv('https://raw.githubusercontent.com/RashmikaD2001/Python-Bootcamp-Project/main/WorldCup_Stats/2019_Match_Stats.csv')\n",
        "dataset13 = pd.read_csv('https://raw.githubusercontent.com/RashmikaD2001/Python-Bootcamp-Project/main/WorldCup_Stats/2023_Match_Stats.csv')"
      ]
    },
    {
      "cell_type": "code",
      "source": [
        "crick_df = pd.concat([dataset1, dataset2, dataset3, dataset4,dataset5,dataset6,dataset7,dataset8,dataset9, dataset10, dataset11, dataset12, dataset13], axis=0)"
      ],
      "metadata": {
        "id": "nHlbUeCAn7dD"
      },
      "execution_count": 9,
      "outputs": []
    }
  ]
}