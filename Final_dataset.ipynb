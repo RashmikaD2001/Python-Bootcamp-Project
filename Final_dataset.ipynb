{
  "nbformat": 4,
  "nbformat_minor": 0,
  "metadata": {
    "colab": {
      "provenance": [],
      "authorship_tag": "ABX9TyPYgxpEv0sWp21cAuScSFA9",
      "include_colab_link": true
    },
    "kernelspec": {
      "name": "python3",
      "display_name": "Python 3"
    },
    "language_info": {
      "name": "python"
    }
  },
  "cells": [
    {
      "cell_type": "markdown",
      "metadata": {
        "id": "view-in-github",
        "colab_type": "text"
      },
      "source": [
        "<a href=\"https://colab.research.google.com/github/RashmikaD2001/Python-Bootcamp-Project/blob/task_2/Final_dataset.ipynb\" target=\"_parent\"><img src=\"https://colab.research.google.com/assets/colab-badge.svg\" alt=\"Open In Colab\"/></a>"
      ]
    },
    {
      "cell_type": "code",
      "execution_count": 8,
      "metadata": {
        "id": "g4qUsVC8nz-r"
      },
      "outputs": [],
      "source": [
        "import pandas as pd\n",
        "import numpy as np\n",
        "dataset1 = pd.read_csv('https://raw.githubusercontent.com/RashmikaD2001/Python-Bootcamp-Project/main/WorldCup_Stats/1975_Match_Stats.csv')\n",
        "dataset2 = pd.read_csv('https://raw.githubusercontent.com/RashmikaD2001/Python-Bootcamp-Project/main/WorldCup_Stats/1979_Match_Stats.csv')\n",
        "dataset3 = pd.read_csv('https://raw.githubusercontent.com/RashmikaD2001/Python-Bootcamp-Project/main/WorldCup_Stats/1983_Match_Stats.csv')\n",
        "dataset4 = pd.read_csv('https://raw.githubusercontent.com/RashmikaD2001/Python-Bootcamp-Project/main/WorldCup_Stats/1987_Match_Stats.csv')\n",
        "dataset5 = pd.read_csv('https://raw.githubusercontent.com/RashmikaD2001/Python-Bootcamp-Project/main/WorldCup_Stats/1992_Match_Stats.csv')\n",
        "dataset6 = pd.read_csv('https://raw.githubusercontent.com/RashmikaD2001/Python-Bootcamp-Project/main/WorldCup_Stats/1996_Match_Stats.csv')\n",
        "dataset7 = pd.read_csv('https://raw.githubusercontent.com/RashmikaD2001/Python-Bootcamp-Project/main/WorldCup_Stats/1999_Match_Stats.csv')\n",
        "dataset8 = pd.read_csv('https://raw.githubusercontent.com/RashmikaD2001/Python-Bootcamp-Project/main/WorldCup_Stats/2003_Match_Stats.csv')\n",
        "dataset9 = pd.read_csv('https://raw.githubusercontent.com/RashmikaD2001/Python-Bootcamp-Project/main/WorldCup_Stats/2007_Match_Stats.csv')\n",
        "dataset10 = pd.read_csv('https://raw.githubusercontent.com/RashmikaD2001/Python-Bootcamp-Project/main/WorldCup_Stats/2011_Match_Stats.csv')\n",
        "dataset11 = pd.read_csv('https://raw.githubusercontent.com/RashmikaD2001/Python-Bootcamp-Project/main/WorldCup_Stats/2015_Match_Stats.csv')\n",
        "dataset12 = pd.read_csv('https://raw.githubusercontent.com/RashmikaD2001/Python-Bootcamp-Project/main/WorldCup_Stats/2019_Match_Stats.csv')\n",
        "dataset13 = pd.read_csv('https://raw.githubusercontent.com/RashmikaD2001/Python-Bootcamp-Project/main/WorldCup_Stats/2023_Match_Stats.csv')"
      ]
    },
    {
      "cell_type": "code",
      "source": [
        "crick_df = pd.concat([dataset1, dataset2, dataset3, dataset4,dataset5,dataset6,dataset7,dataset8,dataset9, dataset10, dataset11, dataset12, dataset13], axis=0)"
      ],
      "metadata": {
        "id": "nHlbUeCAn7dD"
      },
      "execution_count": 9,
      "outputs": []
    },
    {
      "cell_type": "code",
      "source": [
        "crick_df.info()"
      ],
      "metadata": {
        "colab": {
          "base_uri": "https://localhost:8080/"
        },
        "id": "8TVG5pjisJLM",
        "outputId": "1d81d8d4-3585-4a4c-9b7e-de888eb714a3"
      },
      "execution_count": 10,
      "outputs": [
        {
          "output_type": "stream",
          "name": "stdout",
          "text": [
            "<class 'pandas.core.frame.DataFrame'>\n",
            "Index: 528 entries, 0 to 49\n",
            "Data columns (total 18 columns):\n",
            " #   Column           Non-Null Count  Dtype  \n",
            "---  ------           --------------  -----  \n",
            " 0   Unnamed: 0.1     528 non-null    int64  \n",
            " 1   Unnamed: 0       528 non-null    int64  \n",
            " 2   date             364 non-null    object \n",
            " 3   venue            528 non-null    object \n",
            " 4   match_category   528 non-null    object \n",
            " 5   team_1           528 non-null    object \n",
            " 6   team_2           528 non-null    object \n",
            " 7   team_1_runs      518 non-null    float64\n",
            " 8   team_1_wickets   518 non-null    float64\n",
            " 9   team_2_runs      513 non-null    float64\n",
            " 10  team_2_wickets   513 non-null    float64\n",
            " 11  result           528 non-null    object \n",
            " 12  pom              510 non-null    object \n",
            " 13  best_batters     250 non-null    object \n",
            " 14  best_bowlers     250 non-null    object \n",
            " 15  commentary_line  83 non-null     object \n",
            " 16  world_cup_year   528 non-null    int64  \n",
            " 17  host_country     528 non-null    object \n",
            "dtypes: float64(4), int64(3), object(11)\n",
            "memory usage: 78.4+ KB\n"
          ]
        }
      ]
    },
    {
      "cell_type": "code",
      "source": [
        "crick_df = crick_df.dropna(axis=0, how='all')"
      ],
      "metadata": {
        "id": "HiPRh1gpsQp7"
      },
      "execution_count": 11,
      "outputs": []
    },
    {
      "cell_type": "code",
      "source": [
        "crick_df = crick_df.drop_duplicates(keep=False)"
      ],
      "metadata": {
        "id": "Sxdek-Adscmc"
      },
      "execution_count": 12,
      "outputs": []
    },
    {
      "cell_type": "code",
      "source": [
        "crick_df = crick_df.fillna('NA')"
      ],
      "metadata": {
        "id": "pswOV2K1sgsl"
      },
      "execution_count": 16,
      "outputs": []
    },
    {
      "cell_type": "code",
      "source": [
        "crick_df.loc[crick_df['result'] == 'No result', 'match_status'] = 'abandoned'\n",
        "crick_df.loc[crick_df['result'] != 'No result', 'match_status'] = 'played'"
      ],
      "metadata": {
        "id": "7vyLzWtIwOBN"
      },
      "execution_count": 17,
      "outputs": []
    },
    {
      "cell_type": "code",
      "source": [
        "import re\n",
        "\n",
        "def extract_winning_team(result_sentence):\n",
        "    match = re.match(r\"(\\w+|\\w+\\s\\w+)\\swon\", result_sentence)\n",
        "    if match:\n",
        "        return match.group(1)\n",
        "    return 'NA'\n",
        "\n",
        "crick_df['winning_team'] = crick_df['result'].apply(extract_winning_team)"
      ],
      "metadata": {
        "id": "eNPATPB2wUyW"
      },
      "execution_count": 18,
      "outputs": []
    },
    {
      "cell_type": "code",
      "source": [
        "crick_df['best_bowlers'] = crick_df['best_bowlers'].str.replace(r\"[\\[\\]']\", \"\", regex=True).str.strip()\n",
        "\n",
        "crick_df[['bowler_one_data', 'bowler_two_data']] = crick_df['best_bowlers'].str.split(', ', expand=True)\n",
        "\n",
        "crick_df['bowler_one'] = crick_df['bowler_one_data'].str.split(' - ').str[0].str.strip().fillna('NA')\n",
        "crick_df['bowler_one_wicket'] = (\n",
        "    crick_df['bowler_one_data']\n",
        "    .str.split(' - ').str[1]\n",
        "    .str.replace(r\"[^\\d]\", \"\", regex=True)\n",
        "    .fillna(0)\n",
        "    .astype(int)\n",
        ")\n",
        "\n",
        "crick_df['bowler_two'] = crick_df['bowler_two_data'].str.split(' - ').str[0].str.strip().fillna('NA')\n",
        "crick_df['bowler_two_wicket'] = (\n",
        "    crick_df['bowler_two_data']\n",
        "    .str.split(' - ').str[1]\n",
        "    .str.replace(r\"[^\\d]\", \"\", regex=True)\n",
        "    .fillna(0)\n",
        "    .astype(int)\n",
        ")\n",
        "\n",
        "crick_df = crick_df.drop(columns=['bowler_one_data', 'bowler_two_data'])"
      ],
      "metadata": {
        "id": "LScUcI1pwZc9"
      },
      "execution_count": 19,
      "outputs": []
    },
    {
      "cell_type": "code",
      "source": [
        "crick_df['best_batters'] = crick_df['best_batters'].str.replace(r\"[\\[\\]']\", \"\", regex=True).str.strip()\n",
        "\n",
        "# Split the data into two parts based on ', ' separator\n",
        "crick_df[['batter_one_data', 'batter_two_data']] = crick_df['best_batters'].str.split(', ', expand=True)\n",
        "\n",
        "# Extract and clean batter names and scores for the first batter\n",
        "crick_df['batter_one'] = crick_df['batter_one_data'].str.split(' - ').str[0].str.strip().fillna('NA')\n",
        "crick_df['batter_one_score'] = (\n",
        "    crick_df['batter_one_data']\n",
        "    .str.split(' - ').str[1]  # Extract the score portion\n",
        "    .str.replace(r\"[^\\d]\", \"\", regex=True)  # Remove non-digit characters\n",
        "    .fillna(0)\n",
        "    .astype(int)  # Convert to integer\n",
        ")\n",
        "\n",
        "# Extract and clean batter names and scores for the second batter\n",
        "crick_df['batter_two'] = crick_df['batter_two_data'].str.split(' - ').str[0].str.strip().fillna('NA')\n",
        "crick_df['batter_two_score'] = (\n",
        "    crick_df['batter_two_data']\n",
        "    .str.split(' - ').str[1]  # Extract the score portion\n",
        "    .str.replace(r\"[^\\d]\", \"\", regex=True)  # Remove non-digit characters\n",
        "    .fillna(0)\n",
        "    .astype(int)  # Convert to integer\n",
        ")\n",
        "\n",
        "# Drop intermediate columns if not needed\n",
        "crick_df = crick_df.drop(columns=['batter_one_data', 'batter_two_data'])"
      ],
      "metadata": {
        "id": "ABGAy4XcwdG9"
      },
      "execution_count": 20,
      "outputs": []
    },
    {
      "cell_type": "code",
      "source": [
        "crick_df = crick_df.drop(columns=['Unnamed: 0.1', 'Unnamed: 0', 'commentary_line', 'best_batters', 'best_bowlers', 'result'])"
      ],
      "metadata": {
        "id": "JzFdTuV6xOll"
      },
      "execution_count": 23,
      "outputs": []
    }
  ]
}